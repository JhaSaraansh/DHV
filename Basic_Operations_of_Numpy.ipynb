{
  "nbformat": 4,
  "nbformat_minor": 0,
  "metadata": {
    "colab": {
      "provenance": []
    },
    "kernelspec": {
      "name": "python3",
      "display_name": "Python 3"
    },
    "language_info": {
      "name": "python"
    }
  },
  "cells": [
    {
      "cell_type": "code",
      "execution_count": 1,
      "metadata": {
        "colab": {
          "base_uri": "https://localhost:8080/"
        },
        "id": "RWSsg04b3ecC",
        "outputId": "34b85c41-8aea-4278-d0c4-87cde472169f"
      },
      "outputs": [
        {
          "output_type": "stream",
          "name": "stdout",
          "text": [
            "1D array:\n",
            "Shape: (5,)\n",
            "Size: 5\n",
            "Dimension: 1\n",
            "Length: 5\n",
            "\n",
            "2D array:\n",
            "Shape: (2, 3)\n",
            "Size: 6\n",
            "Dimension: 2\n",
            "Length: 2\n",
            "\n",
            "3D array:\n",
            "Shape: (2, 2, 3)\n",
            "Size: 12\n",
            "Dimension: 3\n",
            "Length: 2\n"
          ]
        }
      ],
      "source": [
        "import numpy as np\n",
        "\n",
        "a = np.array([1, 2, 3, 4, 5])\n",
        "\n",
        "print(\"1D array:\")\n",
        "print(\"Shape:\", a.shape)\n",
        "print(\"Size:\", a.size)\n",
        "print(\"Dimension:\", a.ndim)\n",
        "print(\"Length:\", len(a))\n",
        "\n",
        "b = np.array([[1, 2, 3], [4, 5, 6]])\n",
        "\n",
        "print(\"\\n2D array:\")\n",
        "print(\"Shape:\", b.shape)\n",
        "print(\"Size:\", b.size)\n",
        "print(\"Dimension:\", b.ndim)\n",
        "print(\"Length:\", len(b))\n",
        "\n",
        "c = np.array([[[1, 2, 3], [4, 5, 6]], [[7, 8, 9], [10, 11, 12]]])\n",
        "\n",
        "print(\"\\n3D array:\")\n",
        "print(\"Shape:\", c.shape)\n",
        "print(\"Size:\", c.size)\n",
        "print(\"Dimension:\", c.ndim)\n",
        "print(\"Length:\", len(c))"
      ]
    },
    {
      "cell_type": "code",
      "source": [
        "arr1 = np.arange(0, 10, 2)\n",
        "print(\"arange:\", arr1)\n",
        "\n",
        "rand_int = np.random.randint(1, 100, size=5)\n",
        "print(\"random.randint:\", rand_int)\n",
        "\n",
        "rand_arr = np.random.rand(3, 2)\n",
        "print(\"random.rand:\", rand_arr)\n",
        "\n",
        "lin_space = np.linspace(0, 5, 10)\n",
        "print(\"linspace:\", lin_space)\n",
        "\n",
        "ones_arr = np.ones((2, 3))\n",
        "print(\"ones:\", ones_arr)\n",
        "\n",
        "zeros_arr = np.zeros((3, 2))\n",
        "print(\"zeros:\", zeros_arr)\n",
        "\n",
        "arr = np.array([[1, 2, 3], [4, 5, 6], [7, 8, 9]])\n",
        "diagonal_elements = np.diag(arr)\n",
        "print(\"diag:\", diagonal_elements)\n",
        "\n",
        "arr = np.array([[1, 2], [3, 4]])\n",
        "print(\"sum:\", np.sum(arr))\n",
        "\n",
        "arr = np.array([3, 1, 5, 2, 8])\n",
        "print(\"min:\", np.min(arr))\n",
        "\n",
        "print(\"max:\", np.max(arr))\n",
        "\n",
        "print(\"mean:\", np.mean(arr))"
      ],
      "metadata": {
        "colab": {
          "base_uri": "https://localhost:8080/"
        },
        "id": "ZTzAsTKp35RY",
        "outputId": "eb946a9c-98b8-4c9f-ab84-f40d051ef799"
      },
      "execution_count": 4,
      "outputs": [
        {
          "output_type": "stream",
          "name": "stdout",
          "text": [
            "arange: [0 2 4 6 8]\n",
            "random.randint: [99 14  9 41 20]\n",
            "random.rand: [[0.61774753 0.19965312]\n",
            " [0.84866954 0.77150807]\n",
            " [0.49962367 0.28904599]]\n",
            "linspace: [0.         0.55555556 1.11111111 1.66666667 2.22222222 2.77777778\n",
            " 3.33333333 3.88888889 4.44444444 5.        ]\n",
            "ones: [[1. 1. 1.]\n",
            " [1. 1. 1.]]\n",
            "zeros: [[0. 0.]\n",
            " [0. 0.]\n",
            " [0. 0.]]\n",
            "diag: [1 5 9]\n",
            "sum: 10\n",
            "min: 1\n",
            "max: 8\n",
            "mean: 3.8\n"
          ]
        }
      ]
    },
    {
      "cell_type": "code",
      "source": [
        "import numpy as np\n",
        "\n",
        "# Generate random marks for 50 students (assuming there are 50 students)\n",
        "num_students = 50\n",
        "student_marks = np.random.randint(0, 101, size=num_students)\n",
        "\n",
        "# Count the number of students who passed\n",
        "passed_students_count = np.sum(student_marks >= 30)\n",
        "\n",
        "# Filter out the marks of failed students\n",
        "failed_students_marks = student_marks[student_marks < 30]\n",
        "\n",
        "print(\"Number of students passed:\", passed_students_count)\n",
        "print(\"Marks of failed students:\", failed_students_marks)"
      ],
      "metadata": {
        "colab": {
          "base_uri": "https://localhost:8080/"
        },
        "id": "4R5zqZ3h6D2O",
        "outputId": "150ef509-d6c3-49b9-de0f-190a23620b86"
      },
      "execution_count": 5,
      "outputs": [
        {
          "output_type": "stream",
          "name": "stdout",
          "text": [
            "Number of students passed: 38\n",
            "Marks of failed students: [27  5 13 23 12 13 25  8  7 14 15 25]\n"
          ]
        }
      ]
    },
    {
      "cell_type": "code",
      "source": [
        "import numpy as np\n",
        "rand_arr = np.random.randint(1, 51, size=(2, 5))\n",
        "print(rand_arr)"
      ],
      "metadata": {
        "colab": {
          "base_uri": "https://localhost:8080/"
        },
        "id": "XF4v4EoV6jFL",
        "outputId": "ffae5673-8deb-4d2e-862d-ba3cd4719466"
      },
      "execution_count": 6,
      "outputs": [
        {
          "output_type": "stream",
          "name": "stdout",
          "text": [
            "[[24 22 46 19  9]\n",
            " [20 36 44 15 26]]\n"
          ]
        }
      ]
    },
    {
      "cell_type": "code",
      "source": [
        "import numpy as np\n",
        "\n",
        "# Create a numpy array containing all odd numbers between -30 and 10\n",
        "odd_numbers = np.arange(-29, 11, 2)\n",
        "\n",
        "print(\"Array of odd numbers between -30 and 10:\", odd_numbers)"
      ],
      "metadata": {
        "colab": {
          "base_uri": "https://localhost:8080/"
        },
        "id": "-oIZDEAV6kzh",
        "outputId": "1eb03596-6648-485e-9cc9-3b2eee9a55f5"
      },
      "execution_count": 7,
      "outputs": [
        {
          "output_type": "stream",
          "name": "stdout",
          "text": [
            "Array of odd numbers between -30 and 10: [-29 -27 -25 -23 -21 -19 -17 -15 -13 -11  -9  -7  -5  -3  -1   1   3   5\n",
            "   7   9]\n"
          ]
        }
      ]
    }
  ]
}